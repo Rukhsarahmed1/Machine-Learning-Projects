{
 "cells": [
  {
   "cell_type": "markdown",
   "metadata": {},
   "source": [
    "# Machine Learning Project\n"
   ]
  },
  {
   "cell_type": "code",
   "execution_count": 1,
   "metadata": {
    "id": "6cN5e8Td0U0J"
   },
   "outputs": [],
   "source": [
    "import os\n",
    "import pandas as pd\n",
    "import seaborn as sn\n",
    "import matplotlib.pyplot as plt\n",
    "from sklearn.model_selection import train_test_split\n",
    "from sklearn.metrics import accuracy_score"
   ]
  },
  {
   "cell_type": "code",
   "execution_count": 2,
   "metadata": {},
   "outputs": [],
   "source": [
    "df=pd.read_csv(r\"C:\\Users\\bibif\\Downloads\\ML PROJECT\\project---predict-biological-age-Rukhsarahmed1-main\\real_test_data.csv\")\n",
    "df1=pd.read_csv(r\"C:\\Users\\bibif\\Downloads\\ML PROJECT\\project---predict-biological-age-Rukhsarahmed1-main\\training_data.csv\")\n",
    "\n"
   ]
  },
  {
   "cell_type": "code",
   "execution_count": 3,
   "metadata": {},
   "outputs": [
    {
     "data": {
      "text/html": [
       "<div>\n",
       "<style scoped>\n",
       "    .dataframe tbody tr th:only-of-type {\n",
       "        vertical-align: middle;\n",
       "    }\n",
       "\n",
       "    .dataframe tbody tr th {\n",
       "        vertical-align: top;\n",
       "    }\n",
       "\n",
       "    .dataframe thead th {\n",
       "        text-align: right;\n",
       "    }\n",
       "</style>\n",
       "<table border=\"1\" class=\"dataframe\">\n",
       "  <thead>\n",
       "    <tr style=\"text-align: right;\">\n",
       "      <th></th>\n",
       "      <th>Unnamed: 0</th>\n",
       "      <th>anaemia</th>\n",
       "      <th>creatinine_phosphokinase</th>\n",
       "      <th>diabetes</th>\n",
       "      <th>ejection_fraction</th>\n",
       "      <th>high_blood_pressure</th>\n",
       "      <th>platelets</th>\n",
       "      <th>serum_creatinine</th>\n",
       "      <th>serum_sodium</th>\n",
       "      <th>sex</th>\n",
       "      <th>smoking</th>\n",
       "      <th>time</th>\n",
       "    </tr>\n",
       "  </thead>\n",
       "  <tbody>\n",
       "    <tr>\n",
       "      <th>0</th>\n",
       "      <td>0</td>\n",
       "      <td>0</td>\n",
       "      <td>383</td>\n",
       "      <td>0</td>\n",
       "      <td>32</td>\n",
       "      <td>0</td>\n",
       "      <td>216756.66</td>\n",
       "      <td>0.89</td>\n",
       "      <td>138</td>\n",
       "      <td>1</td>\n",
       "      <td>0</td>\n",
       "      <td>99</td>\n",
       "    </tr>\n",
       "    <tr>\n",
       "      <th>1</th>\n",
       "      <td>1</td>\n",
       "      <td>0</td>\n",
       "      <td>714</td>\n",
       "      <td>0</td>\n",
       "      <td>42</td>\n",
       "      <td>1</td>\n",
       "      <td>129419.84</td>\n",
       "      <td>2.50</td>\n",
       "      <td>143</td>\n",
       "      <td>1</td>\n",
       "      <td>1</td>\n",
       "      <td>67</td>\n",
       "    </tr>\n",
       "    <tr>\n",
       "      <th>2</th>\n",
       "      <td>2</td>\n",
       "      <td>1</td>\n",
       "      <td>102</td>\n",
       "      <td>0</td>\n",
       "      <td>54</td>\n",
       "      <td>1</td>\n",
       "      <td>257196.98</td>\n",
       "      <td>0.72</td>\n",
       "      <td>138</td>\n",
       "      <td>1</td>\n",
       "      <td>1</td>\n",
       "      <td>187</td>\n",
       "    </tr>\n",
       "    <tr>\n",
       "      <th>3</th>\n",
       "      <td>3</td>\n",
       "      <td>0</td>\n",
       "      <td>1501</td>\n",
       "      <td>1</td>\n",
       "      <td>48</td>\n",
       "      <td>1</td>\n",
       "      <td>215230.94</td>\n",
       "      <td>0.90</td>\n",
       "      <td>138</td>\n",
       "      <td>0</td>\n",
       "      <td>1</td>\n",
       "      <td>67</td>\n",
       "    </tr>\n",
       "    <tr>\n",
       "      <th>4</th>\n",
       "      <td>4</td>\n",
       "      <td>1</td>\n",
       "      <td>273</td>\n",
       "      <td>0</td>\n",
       "      <td>26</td>\n",
       "      <td>0</td>\n",
       "      <td>166515.37</td>\n",
       "      <td>1.60</td>\n",
       "      <td>138</td>\n",
       "      <td>0</td>\n",
       "      <td>0</td>\n",
       "      <td>211</td>\n",
       "    </tr>\n",
       "  </tbody>\n",
       "</table>\n",
       "</div>"
      ],
      "text/plain": [
       "   Unnamed: 0  anaemia  creatinine_phosphokinase  diabetes  ejection_fraction  \\\n",
       "0           0        0                       383         0                 32   \n",
       "1           1        0                       714         0                 42   \n",
       "2           2        1                       102         0                 54   \n",
       "3           3        0                      1501         1                 48   \n",
       "4           4        1                       273         0                 26   \n",
       "\n",
       "   high_blood_pressure  platelets  serum_creatinine  serum_sodium  sex  \\\n",
       "0                    0  216756.66              0.89           138    1   \n",
       "1                    1  129419.84              2.50           143    1   \n",
       "2                    1  257196.98              0.72           138    1   \n",
       "3                    1  215230.94              0.90           138    0   \n",
       "4                    0  166515.37              1.60           138    0   \n",
       "\n",
       "   smoking  time  \n",
       "0        0    99  \n",
       "1        1    67  \n",
       "2        1   187  \n",
       "3        1    67  \n",
       "4        0   211  "
      ]
     },
     "execution_count": 3,
     "metadata": {},
     "output_type": "execute_result"
    }
   ],
   "source": [
    "df.head()"
   ]
  },
  {
   "cell_type": "code",
   "execution_count": 4,
   "metadata": {},
   "outputs": [
    {
     "data": {
      "text/html": [
       "<div>\n",
       "<style scoped>\n",
       "    .dataframe tbody tr th:only-of-type {\n",
       "        vertical-align: middle;\n",
       "    }\n",
       "\n",
       "    .dataframe tbody tr th {\n",
       "        vertical-align: top;\n",
       "    }\n",
       "\n",
       "    .dataframe thead th {\n",
       "        text-align: right;\n",
       "    }\n",
       "</style>\n",
       "<table border=\"1\" class=\"dataframe\">\n",
       "  <thead>\n",
       "    <tr style=\"text-align: right;\">\n",
       "      <th></th>\n",
       "      <th>Unnamed: 0</th>\n",
       "      <th>age</th>\n",
       "      <th>anaemia</th>\n",
       "      <th>creatinine_phosphokinase</th>\n",
       "      <th>diabetes</th>\n",
       "      <th>ejection_fraction</th>\n",
       "      <th>high_blood_pressure</th>\n",
       "      <th>platelets</th>\n",
       "      <th>serum_creatinine</th>\n",
       "      <th>serum_sodium</th>\n",
       "      <th>sex</th>\n",
       "      <th>smoking</th>\n",
       "      <th>time</th>\n",
       "    </tr>\n",
       "  </thead>\n",
       "  <tbody>\n",
       "    <tr>\n",
       "      <th>0</th>\n",
       "      <td>0</td>\n",
       "      <td>75.0</td>\n",
       "      <td>0</td>\n",
       "      <td>582</td>\n",
       "      <td>0</td>\n",
       "      <td>20</td>\n",
       "      <td>1</td>\n",
       "      <td>265000.00</td>\n",
       "      <td>1.9</td>\n",
       "      <td>130</td>\n",
       "      <td>1</td>\n",
       "      <td>0</td>\n",
       "      <td>4</td>\n",
       "    </tr>\n",
       "    <tr>\n",
       "      <th>1</th>\n",
       "      <td>1</td>\n",
       "      <td>55.0</td>\n",
       "      <td>0</td>\n",
       "      <td>7861</td>\n",
       "      <td>0</td>\n",
       "      <td>38</td>\n",
       "      <td>0</td>\n",
       "      <td>263358.03</td>\n",
       "      <td>1.1</td>\n",
       "      <td>136</td>\n",
       "      <td>1</td>\n",
       "      <td>0</td>\n",
       "      <td>6</td>\n",
       "    </tr>\n",
       "    <tr>\n",
       "      <th>2</th>\n",
       "      <td>2</td>\n",
       "      <td>65.0</td>\n",
       "      <td>0</td>\n",
       "      <td>146</td>\n",
       "      <td>0</td>\n",
       "      <td>20</td>\n",
       "      <td>0</td>\n",
       "      <td>162000.00</td>\n",
       "      <td>1.3</td>\n",
       "      <td>129</td>\n",
       "      <td>1</td>\n",
       "      <td>1</td>\n",
       "      <td>7</td>\n",
       "    </tr>\n",
       "    <tr>\n",
       "      <th>3</th>\n",
       "      <td>3</td>\n",
       "      <td>50.0</td>\n",
       "      <td>1</td>\n",
       "      <td>111</td>\n",
       "      <td>0</td>\n",
       "      <td>20</td>\n",
       "      <td>0</td>\n",
       "      <td>210000.00</td>\n",
       "      <td>1.9</td>\n",
       "      <td>137</td>\n",
       "      <td>1</td>\n",
       "      <td>0</td>\n",
       "      <td>7</td>\n",
       "    </tr>\n",
       "    <tr>\n",
       "      <th>4</th>\n",
       "      <td>4</td>\n",
       "      <td>65.0</td>\n",
       "      <td>1</td>\n",
       "      <td>160</td>\n",
       "      <td>1</td>\n",
       "      <td>20</td>\n",
       "      <td>0</td>\n",
       "      <td>327000.00</td>\n",
       "      <td>2.7</td>\n",
       "      <td>116</td>\n",
       "      <td>0</td>\n",
       "      <td>0</td>\n",
       "      <td>8</td>\n",
       "    </tr>\n",
       "  </tbody>\n",
       "</table>\n",
       "</div>"
      ],
      "text/plain": [
       "   Unnamed: 0   age  anaemia  creatinine_phosphokinase  diabetes  \\\n",
       "0           0  75.0        0                       582         0   \n",
       "1           1  55.0        0                      7861         0   \n",
       "2           2  65.0        0                       146         0   \n",
       "3           3  50.0        1                       111         0   \n",
       "4           4  65.0        1                       160         1   \n",
       "\n",
       "   ejection_fraction  high_blood_pressure  platelets  serum_creatinine  \\\n",
       "0                 20                    1  265000.00               1.9   \n",
       "1                 38                    0  263358.03               1.1   \n",
       "2                 20                    0  162000.00               1.3   \n",
       "3                 20                    0  210000.00               1.9   \n",
       "4                 20                    0  327000.00               2.7   \n",
       "\n",
       "   serum_sodium  sex  smoking  time  \n",
       "0           130    1        0     4  \n",
       "1           136    1        0     6  \n",
       "2           129    1        1     7  \n",
       "3           137    1        0     7  \n",
       "4           116    0        0     8  "
      ]
     },
     "execution_count": 4,
     "metadata": {},
     "output_type": "execute_result"
    }
   ],
   "source": [
    "df1.head()"
   ]
  },
  {
   "cell_type": "code",
   "execution_count": 5,
   "metadata": {},
   "outputs": [
    {
     "data": {
      "text/plain": [
       "(200, 12)"
      ]
     },
     "execution_count": 5,
     "metadata": {},
     "output_type": "execute_result"
    }
   ],
   "source": [
    "df.shape"
   ]
  },
  {
   "cell_type": "code",
   "execution_count": 6,
   "metadata": {},
   "outputs": [
    {
     "data": {
      "text/plain": [
       "(299, 13)"
      ]
     },
     "execution_count": 6,
     "metadata": {},
     "output_type": "execute_result"
    }
   ],
   "source": [
    "df1.shape"
   ]
  },
  {
   "cell_type": "markdown",
   "metadata": {},
   "source": [
    "#  See the datatype of column"
   ]
  },
  {
   "cell_type": "code",
   "execution_count": 7,
   "metadata": {},
   "outputs": [
    {
     "name": "stdout",
     "output_type": "stream",
     "text": [
      "<class 'pandas.core.frame.DataFrame'>\n",
      "RangeIndex: 200 entries, 0 to 199\n",
      "Data columns (total 12 columns):\n",
      " #   Column                    Non-Null Count  Dtype  \n",
      "---  ------                    --------------  -----  \n",
      " 0   Unnamed: 0                200 non-null    int64  \n",
      " 1   anaemia                   200 non-null    int64  \n",
      " 2   creatinine_phosphokinase  200 non-null    int64  \n",
      " 3   diabetes                  200 non-null    int64  \n",
      " 4   ejection_fraction         200 non-null    int64  \n",
      " 5   high_blood_pressure       200 non-null    int64  \n",
      " 6   platelets                 200 non-null    float64\n",
      " 7   serum_creatinine          200 non-null    float64\n",
      " 8   serum_sodium              200 non-null    int64  \n",
      " 9   sex                       200 non-null    int64  \n",
      " 10  smoking                   200 non-null    int64  \n",
      " 11  time                      200 non-null    int64  \n",
      "dtypes: float64(2), int64(10)\n",
      "memory usage: 18.9 KB\n"
     ]
    }
   ],
   "source": [
    "df.info()"
   ]
  },
  {
   "cell_type": "code",
   "execution_count": 8,
   "metadata": {},
   "outputs": [
    {
     "name": "stdout",
     "output_type": "stream",
     "text": [
      "<class 'pandas.core.frame.DataFrame'>\n",
      "RangeIndex: 299 entries, 0 to 298\n",
      "Data columns (total 13 columns):\n",
      " #   Column                    Non-Null Count  Dtype  \n",
      "---  ------                    --------------  -----  \n",
      " 0   Unnamed: 0                299 non-null    int64  \n",
      " 1   age                       299 non-null    float64\n",
      " 2   anaemia                   299 non-null    int64  \n",
      " 3   creatinine_phosphokinase  299 non-null    int64  \n",
      " 4   diabetes                  299 non-null    int64  \n",
      " 5   ejection_fraction         299 non-null    int64  \n",
      " 6   high_blood_pressure       299 non-null    int64  \n",
      " 7   platelets                 299 non-null    float64\n",
      " 8   serum_creatinine          299 non-null    float64\n",
      " 9   serum_sodium              299 non-null    int64  \n",
      " 10  sex                       299 non-null    int64  \n",
      " 11  smoking                   299 non-null    int64  \n",
      " 12  time                      299 non-null    int64  \n",
      "dtypes: float64(3), int64(10)\n",
      "memory usage: 30.5 KB\n"
     ]
    }
   ],
   "source": [
    "df1.info()"
   ]
  },
  {
   "cell_type": "code",
   "execution_count": 9,
   "metadata": {},
   "outputs": [],
   "source": [
    "df1['age']=df1['age'].astype('int64')"
   ]
  },
  {
   "cell_type": "code",
   "execution_count": 10,
   "metadata": {},
   "outputs": [
    {
     "name": "stdout",
     "output_type": "stream",
     "text": [
      "<class 'pandas.core.frame.DataFrame'>\n",
      "RangeIndex: 299 entries, 0 to 298\n",
      "Data columns (total 13 columns):\n",
      " #   Column                    Non-Null Count  Dtype  \n",
      "---  ------                    --------------  -----  \n",
      " 0   Unnamed: 0                299 non-null    int64  \n",
      " 1   age                       299 non-null    int64  \n",
      " 2   anaemia                   299 non-null    int64  \n",
      " 3   creatinine_phosphokinase  299 non-null    int64  \n",
      " 4   diabetes                  299 non-null    int64  \n",
      " 5   ejection_fraction         299 non-null    int64  \n",
      " 6   high_blood_pressure       299 non-null    int64  \n",
      " 7   platelets                 299 non-null    float64\n",
      " 8   serum_creatinine          299 non-null    float64\n",
      " 9   serum_sodium              299 non-null    int64  \n",
      " 10  sex                       299 non-null    int64  \n",
      " 11  smoking                   299 non-null    int64  \n",
      " 12  time                      299 non-null    int64  \n",
      "dtypes: float64(2), int64(11)\n",
      "memory usage: 30.5 KB\n"
     ]
    }
   ],
   "source": [
    "df1.info()"
   ]
  },
  {
   "cell_type": "code",
   "execution_count": 11,
   "metadata": {},
   "outputs": [],
   "source": [
    "X=df1.iloc[:,[0,2,3,4,5,6,7,8,9,10,11,12]]\n",
    "y=df1.iloc[:,1]\n",
    "\n",
    "XEST=df.iloc[:,[0,1,2,3,4,5,6,7,8,9,10,11]]\n",
    "TEST=df1.iloc[:,1]"
   ]
  },
  {
   "cell_type": "code",
   "execution_count": 12,
   "metadata": {},
   "outputs": [
    {
     "name": "stdout",
     "output_type": "stream",
     "text": [
      "     Unnamed: 0  anaemia  creatinine_phosphokinase  diabetes  \\\n",
      "281         281        0                       582         0   \n",
      "44           44        1                       588         1   \n",
      "241         241        0                       582         1   \n",
      "189         189        0                       244         0   \n",
      "152         152        0                       115         0   \n",
      "\n",
      "     ejection_fraction  high_blood_pressure  platelets  serum_creatinine  \\\n",
      "281                 40                    0    51000.0               2.7   \n",
      "44                  60                    0   194000.0               1.1   \n",
      "241                 30                    0   249000.0               1.3   \n",
      "189                 45                    1   275000.0               0.9   \n",
      "152                 45                    1   184000.0               0.9   \n",
      "\n",
      "     serum_sodium  sex  smoking  time  \n",
      "281           136    1        1   250  \n",
      "44            142    0        0    33  \n",
      "241           136    1        1   212  \n",
      "189           140    0        0   174  \n",
      "152           134    1        1   118  \n"
     ]
    }
   ],
   "source": [
    "from sklearn.model_selection import train_test_split\n",
    "X_train, X_test, y_train, y_test = train_test_split(X, y, test_size=0.3, random_state=0, shuffle=True)\n",
    "print(X_train.head())"
   ]
  },
  {
   "cell_type": "code",
   "execution_count": 13,
   "metadata": {},
   "outputs": [
    {
     "name": "stdout",
     "output_type": "stream",
     "text": [
      "KNeighbors Classifier Accuracy is  = 0.03\n"
     ]
    }
   ],
   "source": [
    "from sklearn.metrics import accuracy_score as acc_scr\n",
    "from sklearn.neighbors import KNeighborsClassifier as KNC\n",
    "\n",
    "# Create KNN model\n",
    "model = KNC(n_neighbors=5)\n",
    "# Fit the model.\n",
    "model.fit(X_train, y_train)\n",
    "# Fit the model on the given training dataset.\n",
    "predict_y = model.predict(X_test)\n",
    "# Find the prediction using the fit model\n",
    "accuracy = acc_scr(y_test, predict_y)\n",
    "print('KNeighbors Classifier Accuracy is  = {:.2f}'.format(accuracy))\n"
   ]
  },
  {
   "cell_type": "markdown",
   "metadata": {},
   "source": [
    "# Build LogisticRegression"
   ]
  },
  {
   "cell_type": "code",
   "execution_count": 14,
   "metadata": {},
   "outputs": [
    {
     "name": "stdout",
     "output_type": "stream",
     "text": [
      "LogisticRegression output is = :  0.06666666666666667\n"
     ]
    }
   ],
   "source": [
    "\n",
    "from sklearn.linear_model import LogisticRegression\n",
    "model = LogisticRegression(solver= 'liblinear')\n",
    "model.fit(X_train, y_train)\n",
    "y_PRED = model.predict(X_test)\n",
    "accuracy = accuracy_score(y_test, y_PRED)\n",
    "print(\"LogisticRegression output is = : \", accuracy)"
   ]
  },
  {
   "cell_type": "markdown",
   "metadata": {},
   "source": [
    "# Build KNN Model"
   ]
  },
  {
   "cell_type": "code",
   "execution_count": 15,
   "metadata": {},
   "outputs": [
    {
     "name": "stdout",
     "output_type": "stream",
     "text": [
      "Output using  K-NN =  0.05555555555555555\n"
     ]
    }
   ],
   "source": [
    "from sklearn.neighbors import KNeighborsClassifier\n",
    "model = KNeighborsClassifier(n_neighbors=40)\n",
    "model.fit(X_train, y_train)\n",
    "y_PRED = model.predict(X_test)\n",
    "accuracy = accuracy_score(y_test, y_PRED)\n",
    "print(\"Output using  K-NN = \", accuracy)"
   ]
  },
  {
   "cell_type": "markdown",
   "metadata": {},
   "source": [
    "# Build SVM"
   ]
  },
  {
   "cell_type": "code",
   "execution_count": 16,
   "metadata": {},
   "outputs": [
    {
     "name": "stdout",
     "output_type": "stream",
     "text": [
      "Output  using SVM =  0.08888888888888889\n"
     ]
    }
   ],
   "source": [
    "# Support Vector Model\n",
    "from sklearn.svm import SVC\n",
    "model = SVC(kernel='rbf', C=1)\n",
    "model.fit(X_train, y_train)\n",
    "y_PRED = model.predict(X_test)\n",
    "accuracy = accuracy_score(y_test, y_PRED)\n",
    "print(\"Output  using SVM = \", accuracy)\n"
   ]
  },
  {
   "cell_type": "markdown",
   "metadata": {},
   "source": [
    "# Build Decision Tree Model"
   ]
  },
  {
   "cell_type": "code",
   "execution_count": 17,
   "metadata": {},
   "outputs": [
    {
     "name": "stdout",
     "output_type": "stream",
     "text": [
      "Outout  using Decision Tree =  0.06666666666666667\n"
     ]
    }
   ],
   "source": [
    "#Build Decision Tree Model\n",
    "from sklearn.tree import DecisionTreeClassifier\n",
    "model = DecisionTreeClassifier(class_weight='balanced', criterion='entropy', splitter='best')\n",
    "model.fit(X_train, y_train)\n",
    "y_PRED = model.predict(X_test)\n",
    "accuracy = accuracy_score(y_test, y_PRED)\n",
    "print(\"Outout  using Decision Tree = \", accuracy)"
   ]
  },
  {
   "cell_type": "code",
   "execution_count": null,
   "metadata": {},
   "outputs": [],
   "source": []
  }
 ],
 "metadata": {
  "colab": {
   "collapsed_sections": [],
   "name": "predict_biological_age.ipynb",
   "provenance": []
  },
  "kernelspec": {
   "display_name": "Python 3",
   "language": "python",
   "name": "python3"
  },
  "language_info": {
   "codemirror_mode": {
    "name": "ipython",
    "version": 3
   },
   "file_extension": ".py",
   "mimetype": "text/x-python",
   "name": "python",
   "nbconvert_exporter": "python",
   "pygments_lexer": "ipython3",
   "version": "3.8.8"
  }
 },
 "nbformat": 4,
 "nbformat_minor": 1
}
